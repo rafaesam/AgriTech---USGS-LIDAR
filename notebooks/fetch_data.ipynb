{
 "cells": [
  {
   "cell_type": "markdown",
   "metadata": {},
   "source": [
    "# Fetching & Loading & Visualizing Data Notebook"
   ]
  },
  {
   "cell_type": "code",
   "execution_count": 8,
   "metadata": {},
   "outputs": [
    {
     "ename": "ModuleNotFoundError",
     "evalue": "No module named 'visualization'",
     "output_type": "error",
     "traceback": [
      "\u001b[0;31m---------------------------------------------------------------------------\u001b[0m",
      "\u001b[0;31mModuleNotFoundError\u001b[0m                       Traceback (most recent call last)",
      "\u001b[1;32m/home/rafaa_ahmed/AgriTech-USGS-LIDAR/notebooks/fetch_data.ipynb Cell 2'\u001b[0m in \u001b[0;36m<cell line: 6>\u001b[0;34m()\u001b[0m\n\u001b[1;32m      <a href='vscode-notebook-cell://ssh-remote%2Bg3/home/rafaa_ahmed/AgriTech-USGS-LIDAR/notebooks/fetch_data.ipynb#ch0000001vscode-remote?line=3'>4</a>\u001b[0m \u001b[39m#from shapely.geometry import Polygon\u001b[39;00m\n\u001b[1;32m      <a href='vscode-notebook-cell://ssh-remote%2Bg3/home/rafaa_ahmed/AgriTech-USGS-LIDAR/notebooks/fetch_data.ipynb#ch0000001vscode-remote?line=4'>5</a>\u001b[0m sys\u001b[39m.\u001b[39mpath\u001b[39m.\u001b[39mappend(os\u001b[39m.\u001b[39mpath\u001b[39m.\u001b[39mabspath(os\u001b[39m.\u001b[39mpath\u001b[39m.\u001b[39mjoin(\u001b[39m'\u001b[39m\u001b[39m../\u001b[39m\u001b[39m'\u001b[39m)))\n\u001b[0;32m----> <a href='vscode-notebook-cell://ssh-remote%2Bg3/home/rafaa_ahmed/AgriTech-USGS-LIDAR/notebooks/fetch_data.ipynb#ch0000001vscode-remote?line=5'>6</a>\u001b[0m \u001b[39mfrom\u001b[39;00m \u001b[39mscripts\u001b[39;00m\u001b[39m.\u001b[39;00m\u001b[39mlidar\u001b[39;00m \u001b[39mimport\u001b[39;00m PythonLidar\n\u001b[1;32m      <a href='vscode-notebook-cell://ssh-remote%2Bg3/home/rafaa_ahmed/AgriTech-USGS-LIDAR/notebooks/fetch_data.ipynb#ch0000001vscode-remote?line=6'>7</a>\u001b[0m pl \u001b[39m=\u001b[39m PythonLidar(epsg\u001b[39m=\u001b[39m\u001b[39m4326\u001b[39m)\n",
      "File \u001b[0;32m~/AgriTech-USGS-LIDAR/scripts/lidar.py:3\u001b[0m, in \u001b[0;36m<module>\u001b[0;34m\u001b[0m\n\u001b[1;32m      1\u001b[0m \u001b[39mfrom\u001b[39;00m \u001b[39mvis\u001b[39;00m \u001b[39mimport\u001b[39;00m Vis\n\u001b[1;32m      2\u001b[0m \u001b[39mimport\u001b[39;00m \u001b[39mgeopandas\u001b[39;00m \u001b[39mas\u001b[39;00m \u001b[39mgpd\u001b[39;00m\n\u001b[0;32m----> 3\u001b[0m \u001b[39mfrom\u001b[39;00m \u001b[39mfetch_data\u001b[39;00m \u001b[39mimport\u001b[39;00m FetchLidar\n\u001b[1;32m      4\u001b[0m \u001b[39mfrom\u001b[39;00m \u001b[39msub_sampler\u001b[39;00m \u001b[39mimport\u001b[39;00m SubSampler\n\u001b[1;32m      5\u001b[0m \u001b[39mfrom\u001b[39;00m \u001b[39mshapely\u001b[39;00m\u001b[39m.\u001b[39;00m\u001b[39mgeometry\u001b[39;00m \u001b[39mimport\u001b[39;00m Polygon\n",
      "\u001b[0;31mModuleNotFoundError\u001b[0m: No module named 'visualization'"
     ]
    }
   ],
   "source": [
    "import os, sys\n",
    "import geopandas as gpd\n",
    "import matplotlib.pyplot as plt\n",
    "#from shapely.geometry import Polygon\n",
    "sys.path.append(os.path.abspath(os.path.join('../')))\n",
    "from scripts.lidar import LiDAR\n",
    "pl = LiDAR(epsg=4326)"
   ]
  },
  {
   "cell_type": "code",
   "execution_count": 1,
   "metadata": {},
   "outputs": [
    {
     "ename": "NameError",
     "evalue": "name 'polygon' is not defined",
     "output_type": "error",
     "traceback": [
      "\u001b[0;31m---------------------------------------------------------------------------\u001b[0m",
      "\u001b[0;31mNameError\u001b[0m                                 Traceback (most recent call last)",
      "\u001b[1;32m/home/rafaa_ahmed/AgriTech-USGS-LIDAR/notebooks/fetch_data.ipynb Cell 3'\u001b[0m in \u001b[0;36m<cell line: 2>\u001b[0;34m()\u001b[0m\n\u001b[1;32m      <a href='vscode-notebook-cell://ssh-remote%2Bg3/home/rafaa_ahmed/AgriTech-USGS-LIDAR/notebooks/fetch_data.ipynb#ch0000002vscode-remote?line=0'>1</a>\u001b[0m MINX, MINY, MAXX, MAXY \u001b[39m=\u001b[39m [\u001b[39m-\u001b[39m\u001b[39m93.756155\u001b[39m, \u001b[39m41.918015\u001b[39m, \u001b[39m-\u001b[39m\u001b[39m93.747334\u001b[39m, \u001b[39m41.921429\u001b[39m]\n\u001b[0;32m----> <a href='vscode-notebook-cell://ssh-remote%2Bg3/home/rafaa_ahmed/AgriTech-USGS-LIDAR/notebooks/fetch_data.ipynb#ch0000002vscode-remote?line=1'>2</a>\u001b[0m polygon \u001b[39m=\u001b[39m polygon(((MINX, MINY), (MINX, MAXY), (MAXX, MAXY), (MAXX, MINY), (MINX, MINY)))\n\u001b[1;32m      <a href='vscode-notebook-cell://ssh-remote%2Bg3/home/rafaa_ahmed/AgriTech-USGS-LIDAR/notebooks/fetch_data.ipynb#ch0000002vscode-remote?line=2'>3</a>\u001b[0m polygon\n",
      "\u001b[0;31mNameError\u001b[0m: name 'polygon' is not defined"
     ]
    }
   ],
   "source": [
    "MINX, MINY, MAXX, MAXY = [-93.756155, 41.918015, -93.747334, 41.921429]\n",
    "polygon = Polygon(((MINX, MINY), (MINX, MAXY), (MAXX, MAXY), (MAXX, MINY), (MINX, MINY)))\n",
    "polygon"
   ]
  },
  {
   "cell_type": "code",
   "execution_count": null,
   "metadata": {},
   "outputs": [],
   "source": []
  }
 ],
 "metadata": {
  "kernelspec": {
   "display_name": "Python 3.9.13",
   "language": "python",
   "name": "python3"
  },
  "language_info": {
   "codemirror_mode": {
    "name": "ipython",
    "version": 3
   },
   "file_extension": ".py",
   "mimetype": "text/x-python",
   "name": "python",
   "nbconvert_exporter": "python",
   "pygments_lexer": "ipython3",
   "version": "3.9.13"
  },
  "orig_nbformat": 4,
  "vscode": {
   "interpreter": {
    "hash": "d4d231066766a0f8e427c23f2f2ee29024590202a1f1bfb0f93774858ebe8d59"
   }
  }
 },
 "nbformat": 4,
 "nbformat_minor": 2
}
